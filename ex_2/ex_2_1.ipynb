{
 "cells": [
  {
   "cell_type": "code",
   "execution_count": 114,
   "id": "3bc463fc",
   "metadata": {},
   "outputs": [],
   "source": [
    "from IPython.display import display\n",
    "import numpy as np\n",
    "import pandas as pd\n",
    "import matplotlib.pyplot as plt\n",
    "%matplotlib inline \n",
    "%config InlineBackend.figure_format = 'retina'\n",
    "from sklearn.model_selection import train_test_split\n",
    "from sklearn.linear_model import LinearRegression"
   ]
  },
  {
   "cell_type": "code",
   "execution_count": 115,
   "id": "8240b3ef",
   "metadata": {},
   "outputs": [],
   "source": [
    "from sklearn.datasets import load_diabetes\n",
    "diabetes_dataset = load_diabetes()"
   ]
  },
  {
   "cell_type": "code",
   "execution_count": 36,
   "id": "552b1cac",
   "metadata": {},
   "outputs": [
    {
     "name": "stdout",
     "output_type": "stream",
     "text": [
      "dict_keys(['data', 'target', 'frame', 'DESCR', 'feature_names', 'data_filename', 'target_filename', 'data_module'])\n"
     ]
    }
   ],
   "source": [
    "print(diabetes_dataset.keys())"
   ]
  },
  {
   "cell_type": "code",
   "execution_count": 37,
   "id": "074d814a",
   "metadata": {},
   "outputs": [
    {
     "name": "stdout",
     "output_type": "stream",
     "text": [
      "['age', 'sex', 'bmi', 'bp', 's1', 's2', 's3', 's4', 's5', 's6']\n"
     ]
    }
   ],
   "source": [
    "print(diabetes_dataset['feature_names'])"
   ]
  },
  {
   "cell_type": "code",
   "execution_count": 116,
   "id": "3bff7a4a",
   "metadata": {},
   "outputs": [],
   "source": [
    "# Step 1\n",
    "\n",
    "X = diabetes_dataset['data']\n",
    "df_X = pd.DataFrame(X, columns = diabetes_dataset['feature_names'] )\n",
    "y = diabetes_dataset['target']\n",
    "df_y = pd.DataFrame(y)"
   ]
  },
  {
   "cell_type": "code",
   "execution_count": 39,
   "id": "fffaafc5",
   "metadata": {},
   "outputs": [
    {
     "name": "stdout",
     "output_type": "stream",
     "text": [
      "<class 'numpy.ndarray'>\n",
      "<class 'numpy.ndarray'>\n"
     ]
    }
   ],
   "source": [
    "# Step 2, 3\n",
    "\n",
    "X2 = pd.DataFrame.to_numpy(df_X)\n",
    "y2 = pd.DataFrame.to_numpy(df_y)\n",
    "print(type(X2))\n",
    "print(type(y2))"
   ]
  },
  {
   "cell_type": "code",
   "execution_count": 117,
   "id": "b2c23fb2",
   "metadata": {},
   "outputs": [
    {
     "name": "stdout",
     "output_type": "stream",
     "text": [
      "(353, 10) (353, 1)\n",
      "(89, 10) (89, 1)\n"
     ]
    }
   ],
   "source": [
    "# Step 4\n",
    "\n",
    "X_train, X_test, y_train, y_test = train_test_split(x2, y2, test_size=0.2, random_state=42)\n",
    "print(X_train.shape, y_train.shape)\n",
    "print(X_test.shape, y_test.shape)"
   ]
  },
  {
   "cell_type": "code",
   "execution_count": 88,
   "id": "0ca22e5b",
   "metadata": {},
   "outputs": [
    {
     "data": {
      "text/plain": [
       "'\\nprint(W.shape)\\nN = len(y_train)\\npredictions = 0\\nfor i in range(10):\\n     predictions += X_train[:, i] * W[i]\\npredictions += b\\npredictions = predictions.reshape(-1,1)\\ndW = 1/N * 2 * X_train.T.dot(predictions - y_train)\\ndb = 2 * (predictions- y_train).mean()\\n\\nprint(dW.shape)\\nW -= 0.0001 * dW\\n'"
      ]
     },
     "execution_count": 88,
     "metadata": {},
     "output_type": "execute_result"
    }
   ],
   "source": [
    "# Step 5\n",
    "\n",
    "W = np.random.rand(10)\n",
    "W = W.reshape(-1,1) #노드와 다른 점\n",
    "b = np.random.rand()\n",
    "\n",
    "def model(X, W, b):\n",
    "    predictions = 0\n",
    "    for i in range(10):\n",
    "        predictions += X[:, i] * W[i]\n",
    "    predictions += b\n",
    "    predictions = predictions.reshape(-1,1)\n",
    "    return predictions"
   ]
  },
  {
   "cell_type": "code",
   "execution_count": 90,
   "id": "202ff809",
   "metadata": {},
   "outputs": [],
   "source": [
    "# Step 6\n",
    "\n",
    "def MSE(a, b):\n",
    "    mse = ((a - b) ** 2).mean()\n",
    "    return mse\n",
    "def loss(X, W, b, y):\n",
    "    predictions = model(X, W, b)\n",
    "    L = MSE(predictions, y)\n",
    "    return L"
   ]
  },
  {
   "cell_type": "code",
   "execution_count": 91,
   "id": "308d463b",
   "metadata": {},
   "outputs": [],
   "source": [
    "# Step 7\n",
    "\n",
    "def gradient(X, W, b, y):\n",
    "    N = len(y)\n",
    "    y_pred = model(X, W, b)\n",
    "    dW = 1/N * 2 * X.T.dot(y_pred - y)\n",
    "    db = 2 * (y_pred - y).mean()\n",
    "    return dW, db"
   ]
  },
  {
   "cell_type": "code",
   "execution_count": 110,
   "id": "d0cfa420",
   "metadata": {},
   "outputs": [],
   "source": [
    "# Step 8\n",
    "\n",
    "LEARNING_RATE = 0.2"
   ]
  },
  {
   "cell_type": "code",
   "execution_count": 118,
   "id": "2afb65c4",
   "metadata": {},
   "outputs": [
    {
     "name": "stdout",
     "output_type": "stream",
     "text": [
      "Iteration 100 : Loss 2957.7729\n",
      "Iteration 200 : Loss 2948.7114\n",
      "Iteration 300 : Loss 2941.1262\n",
      "Iteration 400 : Loss 2934.7618\n",
      "Iteration 500 : Loss 2929.4089\n",
      "Iteration 600 : Loss 2924.8960\n",
      "Iteration 700 : Loss 2921.0820\n",
      "Iteration 800 : Loss 2917.8505\n",
      "Iteration 900 : Loss 2915.1058\n",
      "Iteration 1000 : Loss 2912.7684\n"
     ]
    }
   ],
   "source": [
    "# Step 9\n",
    "\n",
    "losses = []\n",
    "\n",
    "for i in range(1, 1001):\n",
    "    dW, db = gradient(X_train, W, b, y_train)\n",
    "    W -= LEARNING_RATE * dW\n",
    "    b -= LEARNING_RATE * db\n",
    "    L = loss(X_train, W, b, y_train)\n",
    "    losses.append(L)\n",
    "    if i % 100 == 0:\n",
    "        print('Iteration %d : Loss %0.4f' % (i, L))"
   ]
  },
  {
   "cell_type": "code",
   "execution_count": 112,
   "id": "3fd5e83f",
   "metadata": {},
   "outputs": [
    {
     "data": {
      "text/plain": [
       "2868.284390973325"
      ]
     },
     "execution_count": 112,
     "metadata": {},
     "output_type": "execute_result"
    }
   ],
   "source": [
    "# Step 10\n",
    "\n",
    "prediction = model(X_test, W, b)\n",
    "mse = loss(X_test, W, b, y_test)\n",
    "mse"
   ]
  },
  {
   "cell_type": "code",
   "execution_count": 120,
   "id": "efa279ac",
   "metadata": {},
   "outputs": [
    {
     "data": {
      "image/png": "[encoded data removed]",
      "text/plain": [
       "<Figure size 432x288 with 1 Axes>"
      ]
     },
     "metadata": {
      "image/png": {
       "height": 248,
       "width": 375
      },
      "needs_background": "light"
     },
     "output_type": "display_data"
    }
   ],
   "source": [
    "# Step 11\n",
    "\n",
    "plt.scatter(X_test[:, 0], y_test, label=\"test\")\n",
    "plt.scatter(X_test[:, 0], prediction, label=\"prediction\")\n",
    "plt.legend()\n",
    "plt.show()"
   ]
  },
  {
   "cell_type": "code",
   "execution_count": null,
   "id": "efecf5c0",
   "metadata": {},
   "outputs": [],
   "source": []
  }
 ],
 "metadata": {
  "kernelspec": {
   "display_name": "Python 3 (ipykernel)",
   "language": "python",
   "name": "python3"
  },
  "language_info": {
   "codemirror_mode": {
    "name": "ipython",
    "version": 3
   },
   "file_extension": ".py",
   "mimetype": "text/x-python",
   "name": "python",
   "nbconvert_exporter": "python",
   "pygments_lexer": "ipython3",
   "version": "3.9.7"
  }
 },
 "nbformat": 4,
 "nbformat_minor": 5
}
